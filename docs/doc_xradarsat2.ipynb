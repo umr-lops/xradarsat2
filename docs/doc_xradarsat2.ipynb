{
 "cells": [
  {
   "cell_type": "markdown",
   "id": "0",
   "metadata": {},
   "source": [
    "# examples"
   ]
  },
  {
   "cell_type": "code",
   "execution_count": null,
   "id": "1",
   "metadata": {},
   "outputs": [],
   "source": [
    "# import dependencies\n",
    "import xradarsat2\n",
    "from xradarsat2.utils import load_config"
   ]
  },
  {
   "cell_type": "code",
   "execution_count": null,
   "id": "2",
   "metadata": {},
   "outputs": [],
   "source": [
    "# Specify the directory that contains the level 1 files\n",
    "conf = load_config()\n",
    "folder_path = conf[\"folder_path\"]\n",
    "# folder_path = \"/home/datawork-cersat-public/cache/project/sarwing/data/RS2/L1/VV_VH/2020/234/RS2_OK123649_PK1086794_DK1033082_SCWA_20200821_133300_VV_VH_SGF\""
   ]
  },
  {
   "cell_type": "code",
   "execution_count": null,
   "id": "3",
   "metadata": {},
   "outputs": [],
   "source": [
    "# Apply rs2_reader to load every datasets (as a datatree) from the level 1 directory and display it\n",
    "dt = xradarsat2.rs2_reader(folder_path)\n",
    "dt"
   ]
  },
  {
   "cell_type": "code",
   "execution_count": null,
   "id": "4",
   "metadata": {},
   "outputs": [],
   "source": [
    "# Example for extracting a dataset from the datatree\n",
    "dt[\"radarParameters\"].ds"
   ]
  },
  {
   "cell_type": "code",
   "execution_count": null,
   "id": "5",
   "metadata": {},
   "outputs": [],
   "source": [
    "#  Add digital numbers to the datatree and display it\n",
    "dt = xradarsat2.load_digital_number(\n",
    "    chunks={\"line\": 5000, \"sample\": 5000},\n",
    "    dt=dt,\n",
    "    resolution={\"line\": 50, \"sample\": 50},\n",
    ")\n",
    "dt"
   ]
  }
 ],
 "metadata": {
  "language_info": {
   "codemirror_mode": {
    "name": "ipython",
    "version": 3
   },
   "file_extension": ".py",
   "mimetype": "text/x-python",
   "name": "python",
   "nbconvert_exporter": "python",
   "pygments_lexer": "ipython3"
  }
 },
 "nbformat": 4,
 "nbformat_minor": 5
}
